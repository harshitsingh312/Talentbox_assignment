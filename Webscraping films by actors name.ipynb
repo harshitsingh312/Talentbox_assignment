{
 "cells": [
  {
   "cell_type": "code",
   "execution_count": 16,
   "metadata": {},
   "outputs": [
    {
     "name": "stdout",
     "output_type": "stream",
     "text": [
      "Requirement already satisfied: beautifulsoup4 in c:\\anaconda3\\lib\\site-packages (4.6.0)\n"
     ]
    }
   ],
   "source": [
    "!pip install beautifulsoup4"
   ]
  },
  {
   "cell_type": "code",
   "execution_count": 17,
   "metadata": {},
   "outputs": [
    {
     "name": "stdout",
     "output_type": "stream",
     "text": [
      "Requirement already satisfied: requests in c:\\anaconda3\\lib\\site-packages (2.26.0)\n",
      "Requirement already satisfied: certifi>=2017.4.17 in c:\\anaconda3\\lib\\site-packages (from requests) (2021.5.30)\n",
      "Requirement already satisfied: idna<4,>=2.5 in c:\\anaconda3\\lib\\site-packages (from requests) (2.6)\n",
      "Requirement already satisfied: urllib3<1.27,>=1.21.1 in c:\\anaconda3\\lib\\site-packages (from requests) (1.26.6)\n",
      "Requirement already satisfied: charset-normalizer~=2.0.0 in c:\\anaconda3\\lib\\site-packages (from requests) (2.0.4)\n"
     ]
    }
   ],
   "source": [
    "!pip install requests"
   ]
  },
  {
   "cell_type": "code",
   "execution_count": 63,
   "metadata": {},
   "outputs": [
    {
     "name": "stdout",
     "output_type": "stream",
     "text": [
      "Enter the actor's name: Salman Khan\n",
      "Error: Filmography not found on the Wikipedia page.\n"
     ]
    }
   ],
   "source": [
    "import requests\n",
    "from bs4 import BeautifulSoup\n",
    "\n",
    "def get_filmography(actor_name):\n",
    "    # Prepare the actor's name for the Wikipedia URL\n",
    "    formatted_name = actor_name.replace(\" \", \"_\")\n",
    "    wikipedia_url = f\"https://en.wikipedia.org/wiki/{formatted_name}\"\n",
    "\n",
    "    \n",
    "    response = requests.get(wikipedia_url)\n",
    "\n",
    "    if response.status_code == 200:\n",
    "         Parse the HTML content of the page\n",
    "        soup = BeautifulSoup(response.text, 'html.parser')\n",
    "\n",
    "        # Find the filmography table on the Wikipedia page\n",
    "        filmography_table = None\n",
    "        for table in soup.find_all(\"table\", {\"class\": \"wikitable\"}):\n",
    "            if \"Filmography\" in str(table):\n",
    "                filmography_table = table\n",
    "                break\n",
    "\n",
    "        if filmography_table:\n",
    "            filmography = []\n",
    "            for row in filmography_table.find_all(\"tr\")[1:]: \n",
    "                columns = row.find_all(\"td\")\n",
    "                if len(columns) >= 2:\n",
    "                    film_title = columns[0].text.strip()\n",
    "                    year = columns[1].text.strip()\n",
    "                    filmography.append((film_title, year))\n",
    "\n",
    "            # Sort the filmography in descending order by year\n",
    "            filmography.sort(key=lambda x: x[1], reverse=True)\n",
    "\n",
    "            return filmography\n",
    "        else:\n",
    "            return \"Filmography not found on the Wikipedia page.\"\n",
    "    else:\n",
    "        return \"Failed to retrieve the Wikipedia page.\"\n",
    "\n",
    "\n",
    "actor_name = input(\"Enter the actor's name: \")\n",
    "filmography = get_filmography(actor_name)\n",
    "\n",
    "if isinstance(filmography, list):\n",
    "    print(f\"Filmography of {actor_name} in descending order:\")\n",
    "    for film, year in filmography:\n",
    "        print(f\"{year}: {film}\")\n",
    "else:\n",
    "    print(f\"Error: {filmography}\")"
   ]
  },
  {
   "cell_type": "code",
   "execution_count": 68,
   "metadata": {
    "scrolled": true
   },
   "outputs": [
    {
     "name": "stdout",
     "output_type": "stream",
     "text": [
      "Enter the actor's name: Shah Rukh Khan\n",
      "Actor not found on IMDb.\n",
      "No filmography data found for the actor.\n"
     ]
    }
   ],
   "source": [
    "import requests\n",
    "from bs4 import BeautifulSoup\n",
    "\n",
    "def get_filmography(actor_name):\n",
    "    base_url = f\"https://www.imdb.com/find?q={actor_name}&s=nm\"\n",
    "    response = requests.get(base_url)\n",
    "    soup = BeautifulSoup(response.content, 'html.parser')\n",
    "    #print(soup.prettify())\n",
    "\n",
    "    # Extract the actor's IMDb ID\n",
    "    results = soup.find_all(\"td\", class_=\"result_text\")\n",
    "    if not results:\n",
    "        print(\"Actor not found on IMDb.\")\n",
    "        return\n",
    "    actor_page_url = results[0].find(\"a\")[\"href\"]\n",
    "\n",
    "    \n",
    "    actor_url = f\"https://www.imdb.com{actor_page_url}filmotype=actor&sort=year,desc\"\n",
    "\n",
    "    # Send a request to the actor's filmography page\n",
    "    response = requests.get(actor_url)\n",
    "    soup = BeautifulSoup(response.content, 'html.parser')\n",
    "\n",
    "    # Extract filmography data\n",
    "    filmography = []\n",
    "    filmography_table = soup.find(\"table\", class_=\"filmography\")\n",
    "    if filmography_table:\n",
    "        rows = filmography_table.find_all(\"tr\")\n",
    "        for row in rows[1:]: \n",
    "            columns = row.find_all(\"td\")\n",
    "            if len(columns) >= 2:\n",
    "                film_title = columns[0].get_text(strip=True)\n",
    "                film_year = columns[1].get_text(strip=True)\n",
    "                filmography.append((film_title, film_year))\n",
    "\n",
    "    return filmography\n",
    "\n",
    "if __name__ == \"__main__\":\n",
    "    actor_name = input(\"Enter the actor's name: \")\n",
    "    filmography = get_filmography(actor_name)\n",
    "    \n",
    "    if filmography:\n",
    "        print(f\"Filmography of {actor_name} in descending order:\")\n",
    "        for film_title, film_year in filmography:\n",
    "            print(f\"{film_title} ({film_year})\")\n",
    "    else:\n",
    "        print(\"No filmography data found for the actor.\")"
   ]
  }
 ],
 "metadata": {
  "kernelspec": {
   "display_name": "Python 3",
   "language": "python",
   "name": "python3"
  },
  "language_info": {
   "codemirror_mode": {
    "name": "ipython",
    "version": 3
   },
   "file_extension": ".py",
   "mimetype": "text/x-python",
   "name": "python",
   "nbconvert_exporter": "python",
   "pygments_lexer": "ipython3",
   "version": "3.6.5"
  }
 },
 "nbformat": 4,
 "nbformat_minor": 2
}
